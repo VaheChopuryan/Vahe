{
 "cells": [
  {
   "cell_type": "code",
   "execution_count": 127,
   "id": "a011b2d9",
   "metadata": {},
   "outputs": [],
   "source": [
    "import numpy as np\n"
   ]
  },
  {
   "cell_type": "code",
   "execution_count": 17,
   "id": "91f1204e",
   "metadata": {},
   "outputs": [
    {
     "name": "stderr",
     "output_type": "stream",
     "text": [
      "C:\\Users\\Mikayel\\AppData\\Local\\Temp/ipykernel_21292/3015246171.py:1: DeprecationWarning: `np.float` is a deprecated alias for the builtin `float`. To silence this warning, use `float` by itself. Doing this will not modify any behavior and is safe. If you specifically wanted the numpy scalar type, use `np.float64` here.\n",
      "Deprecated in NumPy 1.20; for more details and guidance: https://numpy.org/devdocs/release/1.20.0-notes.html#deprecations\n",
      "  arr1 = np.array([[56,78],[44,54]], dtype=np.float)\n"
     ]
    }
   ],
   "source": [
    "arr1 = np.array([[56,78],[44,54]], dtype=np.float)"
   ]
  },
  {
   "cell_type": "code",
   "execution_count": 13,
   "id": "3fa42852",
   "metadata": {},
   "outputs": [
    {
     "data": {
      "text/plain": [
       "array([[56, 78],\n",
       "       [44, 54]])"
      ]
     },
     "execution_count": 13,
     "metadata": {},
     "output_type": "execute_result"
    }
   ],
   "source": [
    "arr1"
   ]
  },
  {
   "cell_type": "code",
   "execution_count": 14,
   "id": "c4dd4e9e",
   "metadata": {},
   "outputs": [
    {
     "data": {
      "text/plain": [
       "(2, 2)"
      ]
     },
     "execution_count": 14,
     "metadata": {},
     "output_type": "execute_result"
    }
   ],
   "source": [
    "arr1.shape"
   ]
  },
  {
   "cell_type": "code",
   "execution_count": 15,
   "id": "06463695",
   "metadata": {},
   "outputs": [
    {
     "data": {
      "text/plain": [
       "2"
      ]
     },
     "execution_count": 15,
     "metadata": {},
     "output_type": "execute_result"
    }
   ],
   "source": [
    "arr1.ndim"
   ]
  },
  {
   "cell_type": "code",
   "execution_count": 24,
   "id": "f541796e",
   "metadata": {},
   "outputs": [],
   "source": [
    "arr2 = np.arange(4, 10, 2.2)"
   ]
  },
  {
   "cell_type": "code",
   "execution_count": 25,
   "id": "3679951d",
   "metadata": {},
   "outputs": [
    {
     "data": {
      "text/plain": [
       "array([4. , 6.2, 8.4])"
      ]
     },
     "execution_count": 25,
     "metadata": {},
     "output_type": "execute_result"
    }
   ],
   "source": [
    "arr2"
   ]
  },
  {
   "cell_type": "code",
   "execution_count": 26,
   "id": "08326691",
   "metadata": {},
   "outputs": [],
   "source": [
    "arr1 = np.arange(1, 20)"
   ]
  },
  {
   "cell_type": "code",
   "execution_count": 27,
   "id": "47788eb2",
   "metadata": {},
   "outputs": [
    {
     "data": {
      "text/plain": [
       "1"
      ]
     },
     "execution_count": 27,
     "metadata": {},
     "output_type": "execute_result"
    }
   ],
   "source": [
    "arr1.ndim"
   ]
  },
  {
   "cell_type": "code",
   "execution_count": 28,
   "id": "3a27e0d7",
   "metadata": {},
   "outputs": [
    {
     "data": {
      "text/plain": [
       "(19,)"
      ]
     },
     "execution_count": 28,
     "metadata": {},
     "output_type": "execute_result"
    }
   ],
   "source": [
    "arr1.shape"
   ]
  },
  {
   "cell_type": "code",
   "execution_count": 29,
   "id": "394518d4",
   "metadata": {},
   "outputs": [
    {
     "data": {
      "text/plain": [
       "2.340347319320716"
      ]
     },
     "execution_count": 29,
     "metadata": {},
     "output_type": "execute_result"
    }
   ],
   "source": [
    "np.sqrt(np.std(arr1))"
   ]
  },
  {
   "cell_type": "code",
   "execution_count": 140,
   "id": "cfac4528",
   "metadata": {},
   "outputs": [],
   "source": [
    "mx1 = np.array([[1, 2, 3, 4, 5, 6],[7, 8, 9, 10, 11, 12]])"
   ]
  },
  {
   "cell_type": "code",
   "execution_count": 141,
   "id": "1b4ada1f",
   "metadata": {},
   "outputs": [],
   "source": [
    "mx2 = np.array([[13,14,15,16,17,18],[19,20 ,21, 22, 23, 24]])"
   ]
  },
  {
   "cell_type": "code",
   "execution_count": 142,
   "id": "c680a555",
   "metadata": {},
   "outputs": [
    {
     "data": {
      "text/plain": [
       "array([[13, 14, 15, 16, 17, 18],\n",
       "       [19, 20, 21, 22, 23, 24]])"
      ]
     },
     "execution_count": 142,
     "metadata": {},
     "output_type": "execute_result"
    }
   ],
   "source": [
    "mx2"
   ]
  },
  {
   "cell_type": "code",
   "execution_count": 143,
   "id": "1edd29f3",
   "metadata": {},
   "outputs": [
    {
     "data": {
      "text/plain": [
       "array([[ 1,  2,  3,  4,  5,  6],\n",
       "       [ 7,  8,  9, 10, 11, 12]])"
      ]
     },
     "execution_count": 143,
     "metadata": {},
     "output_type": "execute_result"
    }
   ],
   "source": [
    "mx1"
   ]
  },
  {
   "cell_type": "code",
   "execution_count": 144,
   "id": "7fa2708a",
   "metadata": {},
   "outputs": [],
   "source": [
    "mx_sum = mx1+mx2"
   ]
  },
  {
   "cell_type": "code",
   "execution_count": 145,
   "id": "d63e63f7",
   "metadata": {},
   "outputs": [
    {
     "data": {
      "text/plain": [
       "array([[14, 16, 18, 20, 22, 24],\n",
       "       [26, 28, 30, 32, 34, 36]])"
      ]
     },
     "execution_count": 145,
     "metadata": {},
     "output_type": "execute_result"
    }
   ],
   "source": [
    "mx_sum"
   ]
  },
  {
   "cell_type": "code",
   "execution_count": 146,
   "id": "8c2a4d18",
   "metadata": {},
   "outputs": [],
   "source": [
    "mx_concat = np.concatenate((mx1, mx2))"
   ]
  },
  {
   "cell_type": "code",
   "execution_count": 147,
   "id": "fa1d675d",
   "metadata": {},
   "outputs": [
    {
     "data": {
      "text/plain": [
       "array([[ 1,  2,  3,  4,  5,  6],\n",
       "       [ 7,  8,  9, 10, 11, 12],\n",
       "       [13, 14, 15, 16, 17, 18],\n",
       "       [19, 20, 21, 22, 23, 24]])"
      ]
     },
     "execution_count": 147,
     "metadata": {},
     "output_type": "execute_result"
    }
   ],
   "source": [
    "mx_concat"
   ]
  },
  {
   "cell_type": "code",
   "execution_count": 148,
   "id": "bc9e0525",
   "metadata": {},
   "outputs": [],
   "source": [
    "mx_bigger_than_5 = mx_concat[(mx_concat > 5)]"
   ]
  },
  {
   "cell_type": "code",
   "execution_count": 149,
   "id": "df16656a",
   "metadata": {},
   "outputs": [
    {
     "data": {
      "text/plain": [
       "array([ 6,  7,  8,  9, 10, 11, 12, 13, 14, 15, 16, 17, 18, 19, 20, 21, 22,\n",
       "       23, 24])"
      ]
     },
     "execution_count": 149,
     "metadata": {},
     "output_type": "execute_result"
    }
   ],
   "source": [
    "mx_bigger_than_5"
   ]
  },
  {
   "cell_type": "code",
   "execution_count": 150,
   "id": "00606b61",
   "metadata": {},
   "outputs": [],
   "source": [
    "mx_slicing = mx_concat[0]"
   ]
  },
  {
   "cell_type": "code",
   "execution_count": 151,
   "id": "bf0fdd61",
   "metadata": {},
   "outputs": [
    {
     "data": {
      "text/plain": [
       "array([1, 2, 3, 4, 5, 6])"
      ]
     },
     "execution_count": 151,
     "metadata": {},
     "output_type": "execute_result"
    }
   ],
   "source": [
    "mx_slicing"
   ]
  },
  {
   "cell_type": "code",
   "execution_count": 152,
   "id": "d8449a78",
   "metadata": {},
   "outputs": [
    {
     "data": {
      "text/plain": [
       "array([[ 1,  2,  3,  4,  5,  6],\n",
       "       [ 7,  8,  9, 10, 11, 12],\n",
       "       [13, 14, 15, 16, 17, 18],\n",
       "       [19, 20, 21, 22, 23, 24]])"
      ]
     },
     "execution_count": 152,
     "metadata": {},
     "output_type": "execute_result"
    }
   ],
   "source": [
    "mx_concat"
   ]
  },
  {
   "cell_type": "code",
   "execution_count": 153,
   "id": "3e337e37",
   "metadata": {},
   "outputs": [
    {
     "data": {
      "text/plain": [
       "array([[ 1,  2,  3,  4,  5,  6],\n",
       "       [ 7,  8,  9, 10, 11, 12]])"
      ]
     },
     "execution_count": 153,
     "metadata": {},
     "output_type": "execute_result"
    }
   ],
   "source": [
    "mx_concat[:2]"
   ]
  },
  {
   "cell_type": "code",
   "execution_count": 154,
   "id": "ea9b42be",
   "metadata": {},
   "outputs": [],
   "source": [
    "mx_slicing = mx_concat.copy()"
   ]
  },
  {
   "cell_type": "code",
   "execution_count": 155,
   "id": "a48cd6b1",
   "metadata": {},
   "outputs": [
    {
     "data": {
      "text/plain": [
       "array([1, 2, 3])"
      ]
     },
     "execution_count": 155,
     "metadata": {},
     "output_type": "execute_result"
    }
   ],
   "source": [
    "mx_slicing[0,0:3]"
   ]
  },
  {
   "cell_type": "code",
   "execution_count": 156,
   "id": "92a53db1",
   "metadata": {},
   "outputs": [
    {
     "data": {
      "text/plain": [
       "array([[ 1,  2,  3,  4,  5,  6],\n",
       "       [ 7,  8,  9, 10, 11, 12],\n",
       "       [13, 14, 15, 16, 17, 18],\n",
       "       [19, 20, 21, 22, 23, 24]])"
      ]
     },
     "execution_count": 156,
     "metadata": {},
     "output_type": "execute_result"
    }
   ],
   "source": [
    "mx_concat"
   ]
  },
  {
   "cell_type": "code",
   "execution_count": 157,
   "id": "c99e12f0",
   "metadata": {},
   "outputs": [
    {
     "data": {
      "text/plain": [
       "array([1, 2, 3, 4, 5, 6])"
      ]
     },
     "execution_count": 157,
     "metadata": {},
     "output_type": "execute_result"
    }
   ],
   "source": [
    "mx_slicing[0]"
   ]
  },
  {
   "cell_type": "code",
   "execution_count": 158,
   "id": "55a06011",
   "metadata": {},
   "outputs": [
    {
     "data": {
      "text/plain": [
       "array([ 1,  7, 13, 19])"
      ]
     },
     "execution_count": 158,
     "metadata": {},
     "output_type": "execute_result"
    }
   ],
   "source": [
    "mx_slicing[:,0]"
   ]
  },
  {
   "cell_type": "code",
   "execution_count": null,
   "id": "a3ffe7df",
   "metadata": {},
   "outputs": [],
   "source": []
  },
  {
   "cell_type": "code",
   "execution_count": null,
   "id": "f90abbe5",
   "metadata": {},
   "outputs": [],
   "source": []
  }
 ],
 "metadata": {
  "kernelspec": {
   "display_name": "Python 3 (ipykernel)",
   "language": "python",
   "name": "python3"
  },
  "language_info": {
   "codemirror_mode": {
    "name": "ipython",
    "version": 3
   },
   "file_extension": ".py",
   "mimetype": "text/x-python",
   "name": "python",
   "nbconvert_exporter": "python",
   "pygments_lexer": "ipython3",
   "version": "3.9.7"
  }
 },
 "nbformat": 4,
 "nbformat_minor": 5
}
